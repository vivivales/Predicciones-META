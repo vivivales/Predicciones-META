{
 "cells": [
  {
   "cell_type": "code",
   "execution_count": 64,
   "id": "48beca3a",
   "metadata": {},
   "outputs": [],
   "source": [
    "#!pip install skforecast\n",
    "\n",
    "#Librerías para cálculos y gráficos\n",
    "#====================================================================================\n",
    "import pandas as pd\n",
    "import numpy as np\n",
    "from numpy import array\n",
    "import plotly.graph_objs as go\n",
    "import matplotlib.pyplot as plt\n",
    "#pip install matplotlib==3.7.1\n",
    "import seaborn as sns\n",
    "\n",
    "#Librerías para Preprocesamiento de datos\n",
    "#====================================================================================\n",
    "from sklearn.preprocessing import StandardScaler\n",
    "from sklearn.preprocessing import OneHotEncoder\n",
    "from sklearn.compose import ColumnTransformer\n",
    "\n",
    "\n",
    "#Librerías para Implementación de Modelos\n",
    "#====================================================================================\n",
    "from sklearn.ensemble import RandomForestRegressor\n",
    "from skforecast.ForecasterAutoreg import ForecasterAutoreg\n",
    "from skforecast.ForecasterAutoregCustom import ForecasterAutoregCustom\n",
    "from skforecast.model_selection import grid_search_forecaster\n",
    "from skforecast.model_selection import backtesting_forecaster\n",
    "from sklearn.metrics import mean_squared_error, r2_score, mean_absolute_error\n",
    "from skforecast.utils import save_forecaster\n",
    "from skforecast.utils import load_forecaster\n",
    "\n",
    "#Estas son paqueterías complementarias para la descarga de datos financieros\n",
    "import pandas\n",
    "from pandas_datareader import data as pdr\n",
    "import yfinance as yfin\n",
    "yfin.pdr_override()\n",
    "import warnings\n",
    "warnings.filterwarnings('ignore')\n",
    "import numpy as np\n",
    "import pandas as pd\n",
    "import joblib\n",
    "import pickle\n",
    "import matplotlib.pyplot as plt\n",
    "from datetime import datetime, timedelta\n",
    "from tsfeatures import tsfeatures"
   ]
  },
  {
   "cell_type": "code",
   "execution_count": 65,
   "id": "84517f4b",
   "metadata": {},
   "outputs": [
    {
     "name": "stdout",
     "output_type": "stream",
     "text": [
      "[*********************100%***********************]  1 of 1 completed\n"
     ]
    }
   ],
   "source": [
    "start = '2016-05-01'\n",
    "end = '2018-01-28'\n",
    "ticker = 'META'\n",
    "data = pd.DataFrame(pdr.get_data_yahoo(ticker, start, end)['Close'])"
   ]
  },
  {
   "cell_type": "code",
   "execution_count": 66,
   "id": "b040e319",
   "metadata": {},
   "outputs": [
    {
     "name": "stdout",
     "output_type": "stream",
     "text": [
      "<class 'pandas.core.frame.DataFrame'>\n",
      "RangeIndex: 439 entries, 0 to 438\n",
      "Data columns (total 2 columns):\n",
      " #   Column  Non-Null Count  Dtype  \n",
      "---  ------  --------------  -----  \n",
      " 0   Date    439 non-null    object \n",
      " 1   Close   439 non-null    float64\n",
      "dtypes: float64(1), object(1)\n",
      "memory usage: 7.0+ KB\n"
     ]
    }
   ],
   "source": [
    "df = data.copy()\n",
    "df = df.reset_index()\n",
    "df['Date'] = df['Date'].astype(str)\n",
    "df.info()"
   ]
  },
  {
   "cell_type": "code",
   "execution_count": 67,
   "id": "abcfc743",
   "metadata": {},
   "outputs": [],
   "source": [
    "año = list(range(2016,2028,1))\n",
    "df['AÑO'] = \"\"\n",
    "\n",
    "for i in año:\n",
    "  df.loc[(df['Date'].str.contains(str(i)) == True),'AÑO']= i\n",
    "\n",
    "mes = list(range(1,13,1))\n",
    "df['MES'] = \"\"\n",
    "\n",
    "for i in range(0,10):\n",
    "   df.loc[(df['Date'].str.contains(\"-0\"+str(i)+\"-\") == True),'MES']= i\n",
    "for i in range(10,13):\n",
    "   df.loc[(df['Date'].str.contains(\"-\"+str(i)+\"-\") == True),'MES']= i"
   ]
  },
  {
   "cell_type": "code",
   "execution_count": 68,
   "id": "58e526a6",
   "metadata": {},
   "outputs": [
    {
     "data": {
      "text/plain": [
       "Text(0.5, 1.0, 'Comportamiento anual de la acción de META entre los años 2016 a 2018')"
      ]
     },
     "execution_count": 68,
     "metadata": {},
     "output_type": "execute_result"
    },
    {
     "data": {
      "image/png": "[encoded data removed]",
      "text/plain": [
       "<Figure size 432x288 with 1 Axes>"
      ]
     },
     "metadata": {
      "needs_background": "light"
     },
     "output_type": "display_data"
    }
   ],
   "source": [
    "anual = df.groupby(by='AÑO').mean()\n",
    "\n",
    "x = list(anual.index)\n",
    "y = anual['Close']\n",
    "\n",
    "plt.bar(x,y)\n",
    "plt.xticks(range(2016,2019,1))\n",
    "plt.title(\"Comportamiento anual de la acción de META entre los años 2016 a 2018\")"
   ]
  },
  {
   "cell_type": "code",
   "execution_count": 69,
   "id": "6aed30d2",
   "metadata": {},
   "outputs": [
    {
     "data": {
      "application/vnd.plotly.v1+json": {
       "config": {
        "plotlyServerURL": "https://plot.ly"
       },
       "data": [
        {
         "mode": "lines",
         "name": "2016",
         "type": "scatter",
         "x": [
          0,
          1,
          2,
          3,
          4,
          5,
          6,
          7,
          8,
          9,
          10,
          11,
          12
         ],
         "y": [
          118.46476055326916,
          115.27863658558239,
          119.17749977111816,
          124.46913080630095,
          128.51333363850912,
          129.7095253354027,
          120.68476141066779,
          118.04190426781064
         ]
        },
        {
         "mode": "lines",
         "name": "2017",
         "type": "scatter",
         "x": [
          0,
          1,
          2,
          3,
          4,
          5,
          6,
          7,
          8,
          9,
          10,
          11,
          12
         ],
         "y": [
          126.8174991607666,
          133.8305254484478,
          139.4082608430282,
          142.96526296515214,
          150.23409271240234,
          152.07954545454547,
          160.53249893188476,
          169.1600003449813,
          170.59099960327148,
          173.3068195689808,
          179.69666689918154,
          177.41650009155273
         ]
        },
        {
         "mode": "lines",
         "name": "2018",
         "type": "scatter",
         "x": [
          0,
          1,
          2,
          3,
          4,
          5,
          6,
          7,
          8,
          9,
          10,
          11,
          12
         ],
         "y": [
          184.6794442070855
         ]
        }
       ],
       "layout": {
        "template": {
         "data": {
          "bar": [
           {
            "error_x": {
             "color": "#2a3f5f"
            },
            "error_y": {
             "color": "#2a3f5f"
            },
            "marker": {
             "line": {
              "color": "#E5ECF6",
              "width": 0.5
             },
             "pattern": {
              "fillmode": "overlay",
              "size": 10,
              "solidity": 0.2
             }
            },
            "type": "bar"
           }
          ],
          "barpolar": [
           {
            "marker": {
             "line": {
              "color": "#E5ECF6",
              "width": 0.5
             },
             "pattern": {
              "fillmode": "overlay",
              "size": 10,
              "solidity": 0.2
             }
            },
            "type": "barpolar"
           }
          ],
          "carpet": [
           {
            "aaxis": {
             "endlinecolor": "#2a3f5f",
             "gridcolor": "white",
             "linecolor": "white",
             "minorgridcolor": "white",
             "startlinecolor": "#2a3f5f"
            },
            "baxis": {
             "endlinecolor": "#2a3f5f",
             "gridcolor": "white",
             "linecolor": "white",
             "minorgridcolor": "white",
             "startlinecolor": "#2a3f5f"
            },
            "type": "carpet"
           }
          ],
          "choropleth": [
           {
            "colorbar": {
             "outlinewidth": 0,
             "ticks": ""
            },
            "type": "choropleth"
           }
          ],
          "contour": [
           {
            "colorbar": {
             "outlinewidth": 0,
             "ticks": ""
            },
            "colorscale": [
             [
              0,
              "#0d0887"
             ],
             [
              0.1111111111111111,
              "#46039f"
             ],
             [
              0.2222222222222222,
              "#7201a8"
             ],
             [
              0.3333333333333333,
              "#9c179e"
             ],
             [
              0.4444444444444444,
              "#bd3786"
             ],
             [
              0.5555555555555556,
              "#d8576b"
             ],
             [
              0.6666666666666666,
              "#ed7953"
             ],
             [
              0.7777777777777778,
              "#fb9f3a"
             ],
             [
              0.8888888888888888,
              "#fdca26"
             ],
             [
              1,
              "#f0f921"
             ]
            ],
            "type": "contour"
           }
          ],
          "contourcarpet": [
           {
            "colorbar": {
             "outlinewidth": 0,
             "ticks": ""
            },
            "type": "contourcarpet"
           }
          ],
          "heatmap": [
           {
            "colorbar": {
             "outlinewidth": 0,
             "ticks": ""
            },
            "colorscale": [
             [
              0,
              "#0d0887"
             ],
             [
              0.1111111111111111,
              "#46039f"
             ],
             [
              0.2222222222222222,
              "#7201a8"
             ],
             [
              0.3333333333333333,
              "#9c179e"
             ],
             [
              0.4444444444444444,
              "#bd3786"
             ],
             [
              0.5555555555555556,
              "#d8576b"
             ],
             [
              0.6666666666666666,
              "#ed7953"
             ],
             [
              0.7777777777777778,
              "#fb9f3a"
             ],
             [
              0.8888888888888888,
              "#fdca26"
             ],
             [
              1,
              "#f0f921"
             ]
            ],
            "type": "heatmap"
           }
          ],
          "heatmapgl": [
           {
            "colorbar": {
             "outlinewidth": 0,
             "ticks": ""
            },
            "colorscale": [
             [
              0,
              "#0d0887"
             ],
             [
              0.1111111111111111,
              "#46039f"
             ],
             [
              0.2222222222222222,
              "#7201a8"
             ],
             [
              0.3333333333333333,
              "#9c179e"
             ],
             [
              0.4444444444444444,
              "#bd3786"
             ],
             [
              0.5555555555555556,
              "#d8576b"
             ],
             [
              0.6666666666666666,
              "#ed7953"
             ],
             [
              0.7777777777777778,
              "#fb9f3a"
             ],
             [
              0.8888888888888888,
              "#fdca26"
             ],
             [
              1,
              "#f0f921"
             ]
            ],
            "type": "heatmapgl"
           }
          ],
          "histogram": [
           {
            "marker": {
             "pattern": {
              "fillmode": "overlay",
              "size": 10,
              "solidity": 0.2
             }
            },
            "type": "histogram"
           }
          ],
          "histogram2d": [
           {
            "colorbar": {
             "outlinewidth": 0,
             "ticks": ""
            },
            "colorscale": [
             [
              0,
              "#0d0887"
             ],
             [
              0.1111111111111111,
              "#46039f"
             ],
             [
              0.2222222222222222,
              "#7201a8"
             ],
             [
              0.3333333333333333,
              "#9c179e"
             ],
             [
              0.4444444444444444,
              "#bd3786"
             ],
             [
              0.5555555555555556,
              "#d8576b"
             ],
             [
              0.6666666666666666,
              "#ed7953"
             ],
             [
              0.7777777777777778,
              "#fb9f3a"
             ],
             [
              0.8888888888888888,
              "#fdca26"
             ],
             [
              1,
              "#f0f921"
             ]
            ],
            "type": "histogram2d"
           }
          ],
          "histogram2dcontour": [
           {
            "colorbar": {
             "outlinewidth": 0,
             "ticks": ""
            },
            "colorscale": [
             [
              0,
              "#0d0887"
             ],
             [
              0.1111111111111111,
              "#46039f"
             ],
             [
              0.2222222222222222,
              "#7201a8"
             ],
             [
              0.3333333333333333,
              "#9c179e"
             ],
             [
              0.4444444444444444,
              "#bd3786"
             ],
             [
              0.5555555555555556,
              "#d8576b"
             ],
             [
              0.6666666666666666,
              "#ed7953"
             ],
             [
              0.7777777777777778,
              "#fb9f3a"
             ],
             [
              0.8888888888888888,
              "#fdca26"
             ],
             [
              1,
              "#f0f921"
             ]
            ],
            "type": "histogram2dcontour"
           }
          ],
          "mesh3d": [
           {
            "colorbar": {
             "outlinewidth": 0,
             "ticks": ""
            },
            "type": "mesh3d"
           }
          ],
          "parcoords": [
           {
            "line": {
             "colorbar": {
              "outlinewidth": 0,
              "ticks": ""
             }
            },
            "type": "parcoords"
           }
          ],
          "pie": [
           {
            "automargin": true,
            "type": "pie"
           }
          ],
          "scatter": [
           {
            "fillpattern": {
             "fillmode": "overlay",
             "size": 10,
             "solidity": 0.2
            },
            "type": "scatter"
           }
          ],
          "scatter3d": [
           {
            "line": {
             "colorbar": {
              "outlinewidth": 0,
              "ticks": ""
             }
            },
            "marker": {
             "colorbar": {
              "outlinewidth": 0,
              "ticks": ""
             }
            },
            "type": "scatter3d"
           }
          ],
          "scattercarpet": [
           {
            "marker": {
             "colorbar": {
              "outlinewidth": 0,
              "ticks": ""
             }
            },
            "type": "scattercarpet"
           }
          ],
          "scattergeo": [
           {
            "marker": {
             "colorbar": {
              "outlinewidth": 0,
              "ticks": ""
             }
            },
            "type": "scattergeo"
           }
          ],
          "scattergl": [
           {
            "marker": {
             "colorbar": {
              "outlinewidth": 0,
              "ticks": ""
             }
            },
            "type": "scattergl"
           }
          ],
          "scattermapbox": [
           {
            "marker": {
             "colorbar": {
              "outlinewidth": 0,
              "ticks": ""
             }
            },
            "type": "scattermapbox"
           }
          ],
          "scatterpolar": [
           {
            "marker": {
             "colorbar": {
              "outlinewidth": 0,
              "ticks": ""
             }
            },
            "type": "scatterpolar"
           }
          ],
          "scatterpolargl": [
           {
            "marker": {
             "colorbar": {
              "outlinewidth": 0,
              "ticks": ""
             }
            },
            "type": "scatterpolargl"
           }
          ],
          "scatterternary": [
           {
            "marker": {
             "colorbar": {
              "outlinewidth": 0,
              "ticks": ""
             }
            },
            "type": "scatterternary"
           }
          ],
          "surface": [
           {
            "colorbar": {
             "outlinewidth": 0,
             "ticks": ""
            },
            "colorscale": [
             [
              0,
              "#0d0887"
             ],
             [
              0.1111111111111111,
              "#46039f"
             ],
             [
              0.2222222222222222,
              "#7201a8"
             ],
             [
              0.3333333333333333,
              "#9c179e"
             ],
             [
              0.4444444444444444,
              "#bd3786"
             ],
             [
              0.5555555555555556,
              "#d8576b"
             ],
             [
              0.6666666666666666,
              "#ed7953"
             ],
             [
              0.7777777777777778,
              "#fb9f3a"
             ],
             [
              0.8888888888888888,
              "#fdca26"
             ],
             [
              1,
              "#f0f921"
             ]
            ],
            "type": "surface"
           }
          ],
          "table": [
           {
            "cells": {
             "fill": {
              "color": "#EBF0F8"
             },
             "line": {
              "color": "white"
             }
            },
            "header": {
             "fill": {
              "color": "#C8D4E3"
             },
             "line": {
              "color": "white"
             }
            },
            "type": "table"
           }
          ]
         },
         "layout": {
          "annotationdefaults": {
           "arrowcolor": "#2a3f5f",
           "arrowhead": 0,
           "arrowwidth": 1
          },
          "autotypenumbers": "strict",
          "coloraxis": {
           "colorbar": {
            "outlinewidth": 0,
            "ticks": ""
           }
          },
          "colorscale": {
           "diverging": [
            [
             0,
             "#8e0152"
            ],
            [
             0.1,
             "#c51b7d"
            ],
            [
             0.2,
             "#de77ae"
            ],
            [
             0.3,
             "#f1b6da"
            ],
            [
             0.4,
             "#fde0ef"
            ],
            [
             0.5,
             "#f7f7f7"
            ],
            [
             0.6,
             "#e6f5d0"
            ],
            [
             0.7,
             "#b8e186"
            ],
            [
             0.8,
             "#7fbc41"
            ],
            [
             0.9,
             "#4d9221"
            ],
            [
             1,
             "#276419"
            ]
           ],
           "sequential": [
            [
             0,
             "#0d0887"
            ],
            [
             0.1111111111111111,
             "#46039f"
            ],
            [
             0.2222222222222222,
             "#7201a8"
            ],
            [
             0.3333333333333333,
             "#9c179e"
            ],
            [
             0.4444444444444444,
             "#bd3786"
            ],
            [
             0.5555555555555556,
             "#d8576b"
            ],
            [
             0.6666666666666666,
             "#ed7953"
            ],
            [
             0.7777777777777778,
             "#fb9f3a"
            ],
            [
             0.8888888888888888,
             "#fdca26"
            ],
            [
             1,
             "#f0f921"
            ]
           ],
           "sequentialminus": [
            [
             0,
             "#0d0887"
            ],
            [
             0.1111111111111111,
             "#46039f"
            ],
            [
             0.2222222222222222,
             "#7201a8"
            ],
            [
             0.3333333333333333,
             "#9c179e"
            ],
            [
             0.4444444444444444,
             "#bd3786"
            ],
            [
             0.5555555555555556,
             "#d8576b"
            ],
            [
             0.6666666666666666,
             "#ed7953"
            ],
            [
             0.7777777777777778,
             "#fb9f3a"
            ],
            [
             0.8888888888888888,
             "#fdca26"
            ],
            [
             1,
             "#f0f921"
            ]
           ]
          },
          "colorway": [
           "#636efa",
           "#EF553B",
           "#00cc96",
           "#ab63fa",
           "#FFA15A",
           "#19d3f3",
           "#FF6692",
           "#B6E880",
           "#FF97FF",
           "#FECB52"
          ],
          "font": {
           "color": "#2a3f5f"
          },
          "geo": {
           "bgcolor": "white",
           "lakecolor": "white",
           "landcolor": "#E5ECF6",
           "showlakes": true,
           "showland": true,
           "subunitcolor": "white"
          },
          "hoverlabel": {
           "align": "left"
          },
          "hovermode": "closest",
          "mapbox": {
           "style": "light"
          },
          "paper_bgcolor": "white",
          "plot_bgcolor": "#E5ECF6",
          "polar": {
           "angularaxis": {
            "gridcolor": "white",
            "linecolor": "white",
            "ticks": ""
           },
           "bgcolor": "#E5ECF6",
           "radialaxis": {
            "gridcolor": "white",
            "linecolor": "white",
            "ticks": ""
           }
          },
          "scene": {
           "xaxis": {
            "backgroundcolor": "#E5ECF6",
            "gridcolor": "white",
            "gridwidth": 2,
            "linecolor": "white",
            "showbackground": true,
            "ticks": "",
            "zerolinecolor": "white"
           },
           "yaxis": {
            "backgroundcolor": "#E5ECF6",
            "gridcolor": "white",
            "gridwidth": 2,
            "linecolor": "white",
            "showbackground": true,
            "ticks": "",
            "zerolinecolor": "white"
           },
           "zaxis": {
            "backgroundcolor": "#E5ECF6",
            "gridcolor": "white",
            "gridwidth": 2,
            "linecolor": "white",
            "showbackground": true,
            "ticks": "",
            "zerolinecolor": "white"
           }
          },
          "shapedefaults": {
           "line": {
            "color": "#2a3f5f"
           }
          },
          "ternary": {
           "aaxis": {
            "gridcolor": "white",
            "linecolor": "white",
            "ticks": ""
           },
           "baxis": {
            "gridcolor": "white",
            "linecolor": "white",
            "ticks": ""
           },
           "bgcolor": "#E5ECF6",
           "caxis": {
            "gridcolor": "white",
            "linecolor": "white",
            "ticks": ""
           }
          },
          "title": {
           "x": 0.05
          },
          "xaxis": {
           "automargin": true,
           "gridcolor": "white",
           "linecolor": "white",
           "ticks": "",
           "title": {
            "standoff": 15
           },
           "zerolinecolor": "white",
           "zerolinewidth": 2
          },
          "yaxis": {
           "automargin": true,
           "gridcolor": "white",
           "linecolor": "white",
           "ticks": "",
           "title": {
            "standoff": 15
           },
           "zerolinecolor": "white",
           "zerolinewidth": 2
          }
         }
        },
        "title": {
         "text": "S&P Comportamiento mensual del Precio de Cierre de META años 2016 a 2018"
        },
        "xaxis": {
         "title": {
          "text": "Date"
         }
        },
        "yaxis": {
         "title": {
          "text": "Precios"
         }
        }
       }
      },
      "text/html": [
       "<div>                            <div id=\"05d451da-c95e-4d8f-aed9-c032457eb824\" class=\"plotly-graph-div\" style=\"height:525px; width:100%;\"></div>            <script type=\"text/javascript\">                require([\"plotly\"], function(Plotly) {                    window.PLOTLYENV=window.PLOTLYENV || {};                                    if (document.getElementById(\"05d451da-c95e-4d8f-aed9-c032457eb824\")) {                    Plotly.newPlot(                        \"05d451da-c95e-4d8f-aed9-c032457eb824\",                        [{\"mode\":\"lines\",\"name\":\"2016\",\"x\":[0,1,2,3,4,5,6,7,8,9,10,11,12],\"y\":[118.46476055326916,115.27863658558239,119.17749977111816,124.46913080630095,128.51333363850912,129.7095253354027,120.68476141066779,118.04190426781064],\"type\":\"scatter\"},{\"mode\":\"lines\",\"name\":\"2017\",\"x\":[0,1,2,3,4,5,6,7,8,9,10,11,12],\"y\":[126.8174991607666,133.8305254484478,139.4082608430282,142.96526296515214,150.23409271240234,152.07954545454547,160.53249893188476,169.1600003449813,170.59099960327148,173.3068195689808,179.69666689918154,177.41650009155273],\"type\":\"scatter\"},{\"mode\":\"lines\",\"name\":\"2018\",\"x\":[0,1,2,3,4,5,6,7,8,9,10,11,12],\"y\":[184.6794442070855],\"type\":\"scatter\"}],                        {\"title\":{\"text\":\"S&P Comportamiento mensual del Precio de Cierre de META a\\u00f1os 2016 a 2018\"},\"xaxis\":{\"title\":{\"text\":\"Date\"}},\"yaxis\":{\"title\":{\"text\":\"Precios\"}},\"template\":{\"data\":{\"histogram2dcontour\":[{\"type\":\"histogram2dcontour\",\"colorbar\":{\"outlinewidth\":0,\"ticks\":\"\"},\"colorscale\":[[0.0,\"#0d0887\"],[0.1111111111111111,\"#46039f\"],[0.2222222222222222,\"#7201a8\"],[0.3333333333333333,\"#9c179e\"],[0.4444444444444444,\"#bd3786\"],[0.5555555555555556,\"#d8576b\"],[0.6666666666666666,\"#ed7953\"],[0.7777777777777778,\"#fb9f3a\"],[0.8888888888888888,\"#fdca26\"],[1.0,\"#f0f921\"]]}],\"choropleth\":[{\"type\":\"choropleth\",\"colorbar\":{\"outlinewidth\":0,\"ticks\":\"\"}}],\"histogram2d\":[{\"type\":\"histogram2d\",\"colorbar\":{\"outlinewidth\":0,\"ticks\":\"\"},\"colorscale\":[[0.0,\"#0d0887\"],[0.1111111111111111,\"#46039f\"],[0.2222222222222222,\"#7201a8\"],[0.3333333333333333,\"#9c179e\"],[0.4444444444444444,\"#bd3786\"],[0.5555555555555556,\"#d8576b\"],[0.6666666666666666,\"#ed7953\"],[0.7777777777777778,\"#fb9f3a\"],[0.8888888888888888,\"#fdca26\"],[1.0,\"#f0f921\"]]}],\"heatmap\":[{\"type\":\"heatmap\",\"colorbar\":{\"outlinewidth\":0,\"ticks\":\"\"},\"colorscale\":[[0.0,\"#0d0887\"],[0.1111111111111111,\"#46039f\"],[0.2222222222222222,\"#7201a8\"],[0.3333333333333333,\"#9c179e\"],[0.4444444444444444,\"#bd3786\"],[0.5555555555555556,\"#d8576b\"],[0.6666666666666666,\"#ed7953\"],[0.7777777777777778,\"#fb9f3a\"],[0.8888888888888888,\"#fdca26\"],[1.0,\"#f0f921\"]]}],\"heatmapgl\":[{\"type\":\"heatmapgl\",\"colorbar\":{\"outlinewidth\":0,\"ticks\":\"\"},\"colorscale\":[[0.0,\"#0d0887\"],[0.1111111111111111,\"#46039f\"],[0.2222222222222222,\"#7201a8\"],[0.3333333333333333,\"#9c179e\"],[0.4444444444444444,\"#bd3786\"],[0.5555555555555556,\"#d8576b\"],[0.6666666666666666,\"#ed7953\"],[0.7777777777777778,\"#fb9f3a\"],[0.8888888888888888,\"#fdca26\"],[1.0,\"#f0f921\"]]}],\"contourcarpet\":[{\"type\":\"contourcarpet\",\"colorbar\":{\"outlinewidth\":0,\"ticks\":\"\"}}],\"contour\":[{\"type\":\"contour\",\"colorbar\":{\"outlinewidth\":0,\"ticks\":\"\"},\"colorscale\":[[0.0,\"#0d0887\"],[0.1111111111111111,\"#46039f\"],[0.2222222222222222,\"#7201a8\"],[0.3333333333333333,\"#9c179e\"],[0.4444444444444444,\"#bd3786\"],[0.5555555555555556,\"#d8576b\"],[0.6666666666666666,\"#ed7953\"],[0.7777777777777778,\"#fb9f3a\"],[0.8888888888888888,\"#fdca26\"],[1.0,\"#f0f921\"]]}],\"surface\":[{\"type\":\"surface\",\"colorbar\":{\"outlinewidth\":0,\"ticks\":\"\"},\"colorscale\":[[0.0,\"#0d0887\"],[0.1111111111111111,\"#46039f\"],[0.2222222222222222,\"#7201a8\"],[0.3333333333333333,\"#9c179e\"],[0.4444444444444444,\"#bd3786\"],[0.5555555555555556,\"#d8576b\"],[0.6666666666666666,\"#ed7953\"],[0.7777777777777778,\"#fb9f3a\"],[0.8888888888888888,\"#fdca26\"],[1.0,\"#f0f921\"]]}],\"mesh3d\":[{\"type\":\"mesh3d\",\"colorbar\":{\"outlinewidth\":0,\"ticks\":\"\"}}],\"scatter\":[{\"fillpattern\":{\"fillmode\":\"overlay\",\"size\":10,\"solidity\":0.2},\"type\":\"scatter\"}],\"parcoords\":[{\"type\":\"parcoords\",\"line\":{\"colorbar\":{\"outlinewidth\":0,\"ticks\":\"\"}}}],\"scatterpolargl\":[{\"type\":\"scatterpolargl\",\"marker\":{\"colorbar\":{\"outlinewidth\":0,\"ticks\":\"\"}}}],\"bar\":[{\"error_x\":{\"color\":\"#2a3f5f\"},\"error_y\":{\"color\":\"#2a3f5f\"},\"marker\":{\"line\":{\"color\":\"#E5ECF6\",\"width\":0.5},\"pattern\":{\"fillmode\":\"overlay\",\"size\":10,\"solidity\":0.2}},\"type\":\"bar\"}],\"scattergeo\":[{\"type\":\"scattergeo\",\"marker\":{\"colorbar\":{\"outlinewidth\":0,\"ticks\":\"\"}}}],\"scatterpolar\":[{\"type\":\"scatterpolar\",\"marker\":{\"colorbar\":{\"outlinewidth\":0,\"ticks\":\"\"}}}],\"histogram\":[{\"marker\":{\"pattern\":{\"fillmode\":\"overlay\",\"size\":10,\"solidity\":0.2}},\"type\":\"histogram\"}],\"scattergl\":[{\"type\":\"scattergl\",\"marker\":{\"colorbar\":{\"outlinewidth\":0,\"ticks\":\"\"}}}],\"scatter3d\":[{\"type\":\"scatter3d\",\"line\":{\"colorbar\":{\"outlinewidth\":0,\"ticks\":\"\"}},\"marker\":{\"colorbar\":{\"outlinewidth\":0,\"ticks\":\"\"}}}],\"scattermapbox\":[{\"type\":\"scattermapbox\",\"marker\":{\"colorbar\":{\"outlinewidth\":0,\"ticks\":\"\"}}}],\"scatterternary\":[{\"type\":\"scatterternary\",\"marker\":{\"colorbar\":{\"outlinewidth\":0,\"ticks\":\"\"}}}],\"scattercarpet\":[{\"type\":\"scattercarpet\",\"marker\":{\"colorbar\":{\"outlinewidth\":0,\"ticks\":\"\"}}}],\"carpet\":[{\"aaxis\":{\"endlinecolor\":\"#2a3f5f\",\"gridcolor\":\"white\",\"linecolor\":\"white\",\"minorgridcolor\":\"white\",\"startlinecolor\":\"#2a3f5f\"},\"baxis\":{\"endlinecolor\":\"#2a3f5f\",\"gridcolor\":\"white\",\"linecolor\":\"white\",\"minorgridcolor\":\"white\",\"startlinecolor\":\"#2a3f5f\"},\"type\":\"carpet\"}],\"table\":[{\"cells\":{\"fill\":{\"color\":\"#EBF0F8\"},\"line\":{\"color\":\"white\"}},\"header\":{\"fill\":{\"color\":\"#C8D4E3\"},\"line\":{\"color\":\"white\"}},\"type\":\"table\"}],\"barpolar\":[{\"marker\":{\"line\":{\"color\":\"#E5ECF6\",\"width\":0.5},\"pattern\":{\"fillmode\":\"overlay\",\"size\":10,\"solidity\":0.2}},\"type\":\"barpolar\"}],\"pie\":[{\"automargin\":true,\"type\":\"pie\"}]},\"layout\":{\"autotypenumbers\":\"strict\",\"colorway\":[\"#636efa\",\"#EF553B\",\"#00cc96\",\"#ab63fa\",\"#FFA15A\",\"#19d3f3\",\"#FF6692\",\"#B6E880\",\"#FF97FF\",\"#FECB52\"],\"font\":{\"color\":\"#2a3f5f\"},\"hovermode\":\"closest\",\"hoverlabel\":{\"align\":\"left\"},\"paper_bgcolor\":\"white\",\"plot_bgcolor\":\"#E5ECF6\",\"polar\":{\"bgcolor\":\"#E5ECF6\",\"angularaxis\":{\"gridcolor\":\"white\",\"linecolor\":\"white\",\"ticks\":\"\"},\"radialaxis\":{\"gridcolor\":\"white\",\"linecolor\":\"white\",\"ticks\":\"\"}},\"ternary\":{\"bgcolor\":\"#E5ECF6\",\"aaxis\":{\"gridcolor\":\"white\",\"linecolor\":\"white\",\"ticks\":\"\"},\"baxis\":{\"gridcolor\":\"white\",\"linecolor\":\"white\",\"ticks\":\"\"},\"caxis\":{\"gridcolor\":\"white\",\"linecolor\":\"white\",\"ticks\":\"\"}},\"coloraxis\":{\"colorbar\":{\"outlinewidth\":0,\"ticks\":\"\"}},\"colorscale\":{\"sequential\":[[0.0,\"#0d0887\"],[0.1111111111111111,\"#46039f\"],[0.2222222222222222,\"#7201a8\"],[0.3333333333333333,\"#9c179e\"],[0.4444444444444444,\"#bd3786\"],[0.5555555555555556,\"#d8576b\"],[0.6666666666666666,\"#ed7953\"],[0.7777777777777778,\"#fb9f3a\"],[0.8888888888888888,\"#fdca26\"],[1.0,\"#f0f921\"]],\"sequentialminus\":[[0.0,\"#0d0887\"],[0.1111111111111111,\"#46039f\"],[0.2222222222222222,\"#7201a8\"],[0.3333333333333333,\"#9c179e\"],[0.4444444444444444,\"#bd3786\"],[0.5555555555555556,\"#d8576b\"],[0.6666666666666666,\"#ed7953\"],[0.7777777777777778,\"#fb9f3a\"],[0.8888888888888888,\"#fdca26\"],[1.0,\"#f0f921\"]],\"diverging\":[[0,\"#8e0152\"],[0.1,\"#c51b7d\"],[0.2,\"#de77ae\"],[0.3,\"#f1b6da\"],[0.4,\"#fde0ef\"],[0.5,\"#f7f7f7\"],[0.6,\"#e6f5d0\"],[0.7,\"#b8e186\"],[0.8,\"#7fbc41\"],[0.9,\"#4d9221\"],[1,\"#276419\"]]},\"xaxis\":{\"gridcolor\":\"white\",\"linecolor\":\"white\",\"ticks\":\"\",\"title\":{\"standoff\":15},\"zerolinecolor\":\"white\",\"automargin\":true,\"zerolinewidth\":2},\"yaxis\":{\"gridcolor\":\"white\",\"linecolor\":\"white\",\"ticks\":\"\",\"title\":{\"standoff\":15},\"zerolinecolor\":\"white\",\"automargin\":true,\"zerolinewidth\":2},\"scene\":{\"xaxis\":{\"backgroundcolor\":\"#E5ECF6\",\"gridcolor\":\"white\",\"linecolor\":\"white\",\"showbackground\":true,\"ticks\":\"\",\"zerolinecolor\":\"white\",\"gridwidth\":2},\"yaxis\":{\"backgroundcolor\":\"#E5ECF6\",\"gridcolor\":\"white\",\"linecolor\":\"white\",\"showbackground\":true,\"ticks\":\"\",\"zerolinecolor\":\"white\",\"gridwidth\":2},\"zaxis\":{\"backgroundcolor\":\"#E5ECF6\",\"gridcolor\":\"white\",\"linecolor\":\"white\",\"showbackground\":true,\"ticks\":\"\",\"zerolinecolor\":\"white\",\"gridwidth\":2}},\"shapedefaults\":{\"line\":{\"color\":\"#2a3f5f\"}},\"annotationdefaults\":{\"arrowcolor\":\"#2a3f5f\",\"arrowhead\":0,\"arrowwidth\":1},\"geo\":{\"bgcolor\":\"white\",\"landcolor\":\"#E5ECF6\",\"subunitcolor\":\"white\",\"showland\":true,\"showlakes\":true,\"lakecolor\":\"white\"},\"title\":{\"x\":0.05},\"mapbox\":{\"style\":\"light\"}}}},                        {\"responsive\": true}                    ).then(function(){\n",
       "                            \n",
       "var gd = document.getElementById('05d451da-c95e-4d8f-aed9-c032457eb824');\n",
       "var x = new MutationObserver(function (mutations, observer) {{\n",
       "        var display = window.getComputedStyle(gd).display;\n",
       "        if (!display || display === 'none') {{\n",
       "            console.log([gd, 'removed!']);\n",
       "            Plotly.purge(gd);\n",
       "            observer.disconnect();\n",
       "        }}\n",
       "}});\n",
       "\n",
       "// Listen for the removal of the full notebook cells\n",
       "var notebookContainer = gd.closest('#notebook-container');\n",
       "if (notebookContainer) {{\n",
       "    x.observe(notebookContainer, {childList: true});\n",
       "}}\n",
       "\n",
       "// Listen for the clearing of the current output cell\n",
       "var outputEl = gd.closest('.output');\n",
       "if (outputEl) {{\n",
       "    x.observe(outputEl, {childList: true});\n",
       "}}\n",
       "\n",
       "                        })                };                });            </script>        </div>"
      ]
     },
     "metadata": {},
     "output_type": "display_data"
    }
   ],
   "source": [
    "mensual = df.groupby(by=['AÑO','MES']).mean()\n",
    "mensual = mensual.reset_index()\n",
    "\n",
    "datos = mensual[mensual['AÑO']==2016]\n",
    "trace1 = go.Scatter(\n",
    "    x = list(range(0,13,1)),\n",
    "    y = datos['Close'],\n",
    "    mode = 'lines',\n",
    "    name = '2016'\n",
    ")\n",
    "\n",
    "datos = mensual[mensual['AÑO']==2017]\n",
    "trace2 = go.Scatter(\n",
    "    x = list(range(0,13,1)),\n",
    "    y = datos['Close'],\n",
    "    mode = 'lines',\n",
    "    name = '2017'\n",
    ")\n",
    "\n",
    "datos = mensual[mensual['AÑO']==2018]\n",
    "trace3 = go.Scatter(\n",
    "    x = list(range(0,13,1)),\n",
    "    y = datos['Close'],\n",
    "    mode = 'lines',\n",
    "    name = '2018'\n",
    ")\n",
    "\n",
    "layout = go.Layout(\n",
    "    title = \"S&P Comportamiento mensual del Precio de Cierre de META años 2016 a 2018\",\n",
    "    xaxis = {'title' : \"Date\"},\n",
    "    yaxis = {'title' : \"Precios\"}\n",
    ")\n",
    "\n",
    "fig = go.Figure(data=[trace1, trace2, trace3], layout=layout)\n",
    "fig.show()"
   ]
  },
  {
   "cell_type": "code",
   "execution_count": 70,
   "id": "875be838",
   "metadata": {},
   "outputs": [
    {
     "name": "stdout",
     "output_type": "stream",
     "text": [
      "<class 'pandas.core.frame.DataFrame'>\n",
      "DatetimeIndex: 439 entries, 2016-05-02 to 2018-01-26\n",
      "Data columns (total 1 columns):\n",
      " #   Column  Non-Null Count  Dtype  \n",
      "---  ------  --------------  -----  \n",
      " 0   Close   439 non-null    float64\n",
      "dtypes: float64(1)\n",
      "memory usage: 6.9 KB\n"
     ]
    }
   ],
   "source": [
    "data.info()"
   ]
  },
  {
   "cell_type": "markdown",
   "id": "65313cd4",
   "metadata": {},
   "source": [
    "# Red neuronal"
   ]
  },
  {
   "cell_type": "code",
   "execution_count": 71,
   "id": "6f4088c5",
   "metadata": {},
   "outputs": [],
   "source": [
    "import pandas as pd\n",
    "import numpy as np\n",
    "import keras\n",
    "import tensorflow as tf\n",
    "import plotly.graph_objs as go\n",
    "\n",
    "# univariate one step problem with lstm\n",
    "from numpy import array\n",
    "from keras.models import Sequential\n",
    "from keras.layers import Dense\n",
    "from keras.layers import LSTM\n",
    "from keras.preprocessing.sequence import TimeseriesGenerator"
   ]
  },
  {
   "cell_type": "code",
   "execution_count": 72,
   "id": "ce2d30e2",
   "metadata": {},
   "outputs": [],
   "source": [
    "dataindex= pd.to_datetime(data.index)\n",
    "\n",
    "\n",
    "df2= data.to_numpy()\n",
    "close_data = df2.reshape((-1,1))"
   ]
  },
  {
   "cell_type": "code",
   "execution_count": 73,
   "id": "d1d60e6d",
   "metadata": {},
   "outputs": [],
   "source": [
    "#Especificamos primeramente el porcentje del corte.\n",
    "split_percent = 0.95\n",
    "split = int(split_percent*len(close_data))\n",
    "\n",
    "#Aplicamos dicha proporción a la definición de la parte de entrenamiento y de prueba.\n",
    "close_train = close_data[:split]\n",
    "close_test = close_data[split:]\n",
    "\n",
    "date_train = dataindex[:split]\n",
    "date_test = dataindex[split:]"
   ]
  },
  {
   "cell_type": "code",
   "execution_count": 74,
   "id": "1b46e860",
   "metadata": {},
   "outputs": [
    {
     "name": "stdout",
     "output_type": "stream",
     "text": [
      "417\n",
      "22\n"
     ]
    }
   ],
   "source": [
    "print(len(close_train))\n",
    "print(len(close_test))"
   ]
  },
  {
   "cell_type": "markdown",
   "id": "89d9ff29",
   "metadata": {},
   "source": [
    "Realiza el preprocesamiento necesario para aplicar cada uno de los modelos. En el caso de LSTM diseña y entrena la red con 200 nodos, la función de activación “relu”, epochs=30, función de perdida de ‘mse’, longitud de ventana de 10 yoptimizer='adam'."
   ]
  },
  {
   "cell_type": "code",
   "execution_count": 75,
   "id": "ae304335",
   "metadata": {},
   "outputs": [],
   "source": [
    "#Especificamos la longitud o length, es el número de observaciones tipo lags a emplear en la prción de entrada de cada muestra, el ejemplo anterior era de 3.\n",
    "#batch size representa en número de sub-series o muestras a generar en cada lote. En este caso, pueden ser uno o más. Por ejemplo, en la imagen anterior, el batch size es de 3.\n",
    "n_back = 10   #la longitud \n",
    "train_generator = TimeseriesGenerator(close_train, close_train, length=n_back, batch_size=25)     \n",
    "test_generator = TimeseriesGenerator(close_test, close_test, length=n_back, batch_size=1)"
   ]
  },
  {
   "cell_type": "code",
   "execution_count": 76,
   "id": "0fe9f2ae",
   "metadata": {},
   "outputs": [
    {
     "name": "stdout",
     "output_type": "stream",
     "text": [
      "Samples: 17\n",
      "Samples: 12\n"
     ]
    }
   ],
   "source": [
    "# Podemos ver el número de muestras que se prepararán en los datos por el generador para esta serie\n",
    "print('Samples: %d' % len(train_generator))\n",
    "print('Samples: %d' % len(test_generator))"
   ]
  },
  {
   "cell_type": "code",
   "execution_count": 77,
   "id": "8c2c5357",
   "metadata": {},
   "outputs": [
    {
     "data": {
      "text/plain": [
       "<keras.callbacks.History at 0x12149bafee0>"
      ]
     },
     "execution_count": 77,
     "metadata": {},
     "output_type": "execute_result"
    }
   ],
   "source": [
    "##Neural Net\n",
    "#Importamos primero los módulos requeridos:\n",
    "from keras.models import Sequential\n",
    "from keras.layers import LSTM, Dense\n",
    "\n",
    "#Configuramos la de red.\n",
    "model = Sequential()\n",
    "model.add(\n",
    "    LSTM(200,  ## de nodos, dependerá de su poder de cómputo.\n",
    "        activation='relu',\n",
    "        input_shape=(n_back,1))   ##la longitud de la secuencia\n",
    ")\n",
    "model.add(Dense(1))  #capa de salida de predicción\n",
    "model.compile(optimizer='adam', loss='mse')\n",
    "\n",
    "num_epochs = 30\n",
    "model.fit_generator(train_generator, epochs=num_epochs, verbose=0)"
   ]
  },
  {
   "cell_type": "code",
   "execution_count": 78,
   "id": "fae400c6",
   "metadata": {},
   "outputs": [],
   "source": [
    "##Ajuste del modelo a los datos:\n",
    "history = model.fit_generator(train_generator, epochs=num_epochs, verbose=0)"
   ]
  },
  {
   "cell_type": "code",
   "execution_count": 79,
   "id": "f901e203",
   "metadata": {},
   "outputs": [],
   "source": [
    "#Predicción en el set de prueba:\n",
    "prediction = model.predict_generator(test_generator)\n",
    "\n",
    "#El siguiente se emplea para pasar el tipo de datos de tensores a datos de una dimensión, aplicamos la función reshape.\n",
    "close_train = close_train.reshape((-1))\n",
    "close_test = close_test.reshape((-1))\n",
    "prediction = prediction.reshape((-1))"
   ]
  },
  {
   "cell_type": "code",
   "execution_count": 80,
   "id": "bce4f812",
   "metadata": {},
   "outputs": [],
   "source": [
    "y_true = close_test[n_back:]\n",
    "y_pred = prediction"
   ]
  },
  {
   "cell_type": "code",
   "execution_count": 81,
   "id": "f5889aab",
   "metadata": {},
   "outputs": [
    {
     "name": "stdout",
     "output_type": "stream",
     "text": [
      "12/12 [==============================] - 0s 3ms/step - loss: 31.5645\n",
      "Test loss MSE: 31.564538955688477\n"
     ]
    }
   ],
   "source": [
    "#Evaluar el rendimiento del modelo\n",
    "test_loss = model.evaluate(test_generator)\n",
    "print('Test loss MSE:', test_loss)"
   ]
  },
  {
   "cell_type": "code",
   "execution_count": 82,
   "id": "e2935664",
   "metadata": {},
   "outputs": [
    {
     "name": "stdout",
     "output_type": "stream",
     "text": [
      "EL MSE del modelo en test es de: 31.564436882055208\n",
      "EL RMSE del modelo en test es de: 5.618223641156981\n",
      "EL MAE del modelo en test es de: 4.963685353597005\n",
      "EL MAPE del modelo en test es de: 2.67%\n"
     ]
    }
   ],
   "source": [
    "from sklearn.metrics import mean_absolute_percentage_error\n",
    "\n",
    "error_mse = mean_squared_error(\n",
    "                    y_true= y_true,\n",
    "                    y_pred = y_pred\n",
    "                )\n",
    "\n",
    "rmse = np.sqrt (error_mse)\n",
    "\n",
    "print(f\"EL MSE del modelo en test es de: {error_mse}\")\n",
    "print(f\"EL RMSE del modelo en test es de: {rmse}\")\n",
    "\n",
    "# suponga que y_true son los valores reales y y_pred son las predicciones del modelo\n",
    "error_mae = mean_absolute_error(\n",
    "                y_true= y_true,\n",
    "                y_pred = y_pred\n",
    "            )\n",
    "print(f\"EL MAE del modelo en test es de: {error_mae}\")\n",
    "\n",
    "mape = mean_absolute_percentage_error(y_true, y_pred)\n",
    "print(\"EL MAPE del modelo en test es de: {:.2f}%\".format(mape*100))\n",
    "\n",
    "metricas_lstm = [error_mse,rmse,error_mae,mape]"
   ]
  },
  {
   "cell_type": "code",
   "execution_count": 83,
   "id": "b74512ee",
   "metadata": {},
   "outputs": [],
   "source": [
    "##Forecasting: Generamos el pronóstico hacia adelante acorde el modelo entrenado, a partir de la última fecha. en este caso generaremos 10 observaciones futuras y finalmente anexaremos las fechas correspondientes.\n",
    "close_data = close_data.reshape((-1))\n",
    "\n",
    "def predict(num_prediction, model):\n",
    "    prediction_list = close_data[-n_back:]\n",
    "    \n",
    "    for _ in range(num_prediction):\n",
    "        x = prediction_list[-n_back:]\n",
    "        x = x.reshape((1, n_back, 1))\n",
    "        out = model.predict(x)[0][0]\n",
    "        prediction_list = np.append(prediction_list, out)\n",
    "    prediction_list = prediction_list[n_back-1:]\n",
    "        \n",
    "    return prediction_list\n",
    "    \n",
    "def predict_dates(num_prediction):\n",
    "    last_date = max(data.index)  #se podría sustituir por un objeto con el valor máximo de la longitud de la serie.\n",
    "    prediction_dates = pd.date_range(last_date, periods=num_prediction+1, freq='B').tolist()  #Aquí, sebemos ser coherentes con la frecuencia de la serie, el defalult es diario.\n",
    "    return prediction_dates\n"
   ]
  },
  {
   "cell_type": "code",
   "execution_count": 84,
   "id": "bb75a437",
   "metadata": {
    "scrolled": true
   },
   "outputs": [
    {
     "name": "stdout",
     "output_type": "stream",
     "text": [
      "1/1 [==============================] - 0s 146ms/step\n",
      "1/1 [==============================] - 0s 20ms/step\n",
      "1/1 [==============================] - 0s 20ms/step\n",
      "1/1 [==============================] - 0s 19ms/step\n",
      "1/1 [==============================] - 0s 21ms/step\n",
      "1/1 [==============================] - 0s 34ms/step\n",
      "1/1 [==============================] - 0s 20ms/step\n",
      "1/1 [==============================] - 0s 20ms/step\n",
      "1/1 [==============================] - 0s 20ms/step\n",
      "1/1 [==============================] - 0s 20ms/step\n"
     ]
    }
   ],
   "source": [
    "num_prediction = 10\n",
    "pred_rn = predict(num_prediction, model)\n",
    "forecast_dates = predict_dates(num_prediction)"
   ]
  },
  {
   "cell_type": "code",
   "execution_count": 85,
   "id": "375451cf",
   "metadata": {},
   "outputs": [
    {
     "data": {
      "image/png": "[encoded data removed]",
      "text/plain": [
       "<Figure size 720x360 with 1 Axes>"
      ]
     },
     "metadata": {
      "needs_background": "light"
     },
     "output_type": "display_data"
    }
   ],
   "source": [
    "pred_rn = pd.DataFrame(zip(forecast_dates,pred_rn),columns=['Date','pred'])\n",
    "pred_rn = pred_rn.set_index('Date')\n",
    "\n",
    "fig, ax = plt.subplots(figsize=(10, 5))\n",
    "data['Close'].plot(ax=ax, label='test')\n",
    "pred_rn.plot(ax=ax, label='predicciones')\n",
    "ax.legend();"
   ]
  },
  {
   "cell_type": "markdown",
   "id": "6df13889",
   "metadata": {},
   "source": [
    "# SKForecaster"
   ]
  },
  {
   "cell_type": "code",
   "execution_count": 86,
   "id": "aab6f77d",
   "metadata": {},
   "outputs": [
    {
     "name": "stdout",
     "output_type": "stream",
     "text": [
      "417\n",
      "22\n"
     ]
    },
    {
     "data": {
      "text/plain": [
       "(None, None)"
      ]
     },
     "execution_count": 86,
     "metadata": {},
     "output_type": "execute_result"
    }
   ],
   "source": [
    "dataindex= pd.to_datetime(data.index)\n",
    "\n",
    "df_sk= pandas.DataFrame(df).iloc[:,:2]\n",
    "\n",
    "#Especificamos primeramente el porcentje del corte.\n",
    "split_percent = 0.95\n",
    "split = int(split_percent*len(df_sk))\n",
    "\n",
    "#Aplicamos dicha proporción a la definición de la parte de entrenamiento y de prueba.\n",
    "sk_train = df_sk[:split]\n",
    "sk_test = df_sk[split:]\n",
    "\n",
    "datesk_train = dataindex[:split]\n",
    "datesk_test = dataindex[split:]\n",
    "\n",
    "print(len(sk_train)), print(len(sk_test))"
   ]
  },
  {
   "cell_type": "code",
   "execution_count": 87,
   "id": "ef94dd5b",
   "metadata": {},
   "outputs": [
    {
     "data": {
      "text/html": [
       "<div>\n",
       "<style scoped>\n",
       "    .dataframe tbody tr th:only-of-type {\n",
       "        vertical-align: middle;\n",
       "    }\n",
       "\n",
       "    .dataframe tbody tr th {\n",
       "        vertical-align: top;\n",
       "    }\n",
       "\n",
       "    .dataframe thead th {\n",
       "        text-align: right;\n",
       "    }\n",
       "</style>\n",
       "<table border=\"1\" class=\"dataframe\">\n",
       "  <thead>\n",
       "    <tr style=\"text-align: right;\">\n",
       "      <th></th>\n",
       "      <th>Date</th>\n",
       "      <th>Close</th>\n",
       "    </tr>\n",
       "  </thead>\n",
       "  <tbody>\n",
       "    <tr>\n",
       "      <th>0</th>\n",
       "      <td>2016-05-02</td>\n",
       "      <td>118.570000</td>\n",
       "    </tr>\n",
       "    <tr>\n",
       "      <th>1</th>\n",
       "      <td>2016-05-03</td>\n",
       "      <td>117.430000</td>\n",
       "    </tr>\n",
       "    <tr>\n",
       "      <th>2</th>\n",
       "      <td>2016-05-04</td>\n",
       "      <td>118.059998</td>\n",
       "    </tr>\n",
       "    <tr>\n",
       "      <th>3</th>\n",
       "      <td>2016-05-05</td>\n",
       "      <td>117.809998</td>\n",
       "    </tr>\n",
       "    <tr>\n",
       "      <th>4</th>\n",
       "      <td>2016-05-06</td>\n",
       "      <td>119.489998</td>\n",
       "    </tr>\n",
       "    <tr>\n",
       "      <th>...</th>\n",
       "      <td>...</td>\n",
       "      <td>...</td>\n",
       "    </tr>\n",
       "    <tr>\n",
       "      <th>412</th>\n",
       "      <td>2017-12-18</td>\n",
       "      <td>180.820007</td>\n",
       "    </tr>\n",
       "    <tr>\n",
       "      <th>413</th>\n",
       "      <td>2017-12-19</td>\n",
       "      <td>179.509995</td>\n",
       "    </tr>\n",
       "    <tr>\n",
       "      <th>414</th>\n",
       "      <td>2017-12-20</td>\n",
       "      <td>177.889999</td>\n",
       "    </tr>\n",
       "    <tr>\n",
       "      <th>415</th>\n",
       "      <td>2017-12-21</td>\n",
       "      <td>177.449997</td>\n",
       "    </tr>\n",
       "    <tr>\n",
       "      <th>416</th>\n",
       "      <td>2017-12-22</td>\n",
       "      <td>177.199997</td>\n",
       "    </tr>\n",
       "  </tbody>\n",
       "</table>\n",
       "<p>417 rows × 2 columns</p>\n",
       "</div>"
      ],
      "text/plain": [
       "           Date       Close\n",
       "0    2016-05-02  118.570000\n",
       "1    2016-05-03  117.430000\n",
       "2    2016-05-04  118.059998\n",
       "3    2016-05-05  117.809998\n",
       "4    2016-05-06  119.489998\n",
       "..          ...         ...\n",
       "412  2017-12-18  180.820007\n",
       "413  2017-12-19  179.509995\n",
       "414  2017-12-20  177.889999\n",
       "415  2017-12-21  177.449997\n",
       "416  2017-12-22  177.199997\n",
       "\n",
       "[417 rows x 2 columns]"
      ]
     },
     "execution_count": 87,
     "metadata": {},
     "output_type": "execute_result"
    }
   ],
   "source": [
    "sk_train"
   ]
  },
  {
   "cell_type": "code",
   "execution_count": 100,
   "id": "602062c7",
   "metadata": {
    "scrolled": true
   },
   "outputs": [
    {
     "name": "stdout",
     "output_type": "stream",
     "text": [
      "Number of models compared: 27.\n"
     ]
    },
    {
     "name": "stderr",
     "output_type": "stream",
     "text": [
      "loop lags_grid:   0%|                                               | 0/3 [00:00<?, ?it/s]\n",
      "loop param_grid:   0%|                                              | 0/9 [00:00<?, ?it/s]\u001b[A\n",
      "loop param_grid:  11%|████▏                                 | 1/9 [00:02<00:22,  2.79s/it]\u001b[A\n",
      "loop param_grid:  22%|████████▍                             | 2/9 [00:12<00:47,  6.76s/it]\u001b[A\n",
      "loop param_grid:  33%|████████████▋                         | 3/9 [00:24<00:56,  9.43s/it]\u001b[A\n",
      "loop param_grid:  44%|████████████████▉                     | 4/9 [00:28<00:34,  6.97s/it]\u001b[A\n",
      "loop param_grid:  56%|█████████████████████                 | 5/9 [00:36<00:30,  7.60s/it]\u001b[A\n",
      "loop param_grid:  67%|█████████████████████████▎            | 6/9 [00:51<00:29,  9.97s/it]\u001b[A\n",
      "loop param_grid:  78%|█████████████████████████████▌        | 7/9 [00:54<00:15,  7.85s/it]\u001b[A\n",
      "loop param_grid:  89%|█████████████████████████████████▊    | 8/9 [01:04<00:08,  8.55s/it]\u001b[A\n",
      "loop param_grid: 100%|██████████████████████████████████████| 9/9 [01:22<00:00, 11.24s/it]\u001b[A\n",
      "loop lags_grid:  33%|█████████████                          | 1/3 [01:22<02:44, 82.11s/it]\u001b[A\n",
      "loop param_grid:   0%|                                              | 0/9 [00:00<?, ?it/s]\u001b[A\n",
      "loop param_grid:  11%|████▏                                 | 1/9 [00:02<00:22,  2.80s/it]\u001b[A\n",
      "loop param_grid:  22%|████████▍                             | 2/9 [00:11<00:43,  6.17s/it]\u001b[A\n",
      "loop param_grid:  33%|████████████▋                         | 3/9 [00:25<00:59,  9.92s/it]\u001b[A\n",
      "loop param_grid:  44%|████████████████▉                     | 4/9 [00:28<00:36,  7.28s/it]\u001b[A\n",
      "loop param_grid:  56%|█████████████████████                 | 5/9 [00:38<00:32,  8.11s/it]\u001b[A\n",
      "loop param_grid:  67%|█████████████████████████▎            | 6/9 [00:54<00:32, 10.91s/it]\u001b[A\n",
      "loop param_grid:  78%|█████████████████████████████▌        | 7/9 [00:59<00:17,  8.90s/it]\u001b[A\n",
      "loop param_grid:  89%|█████████████████████████████████▊    | 8/9 [01:11<00:09,  9.85s/it]\u001b[A\n",
      "loop param_grid: 100%|██████████████████████████████████████| 9/9 [01:32<00:00, 13.30s/it]\u001b[A\n",
      "loop lags_grid:  67%|██████████████████████████             | 2/3 [02:54<01:28, 88.18s/it]\u001b[A\n",
      "loop param_grid:   0%|                                              | 0/9 [00:00<?, ?it/s]\u001b[A\n",
      "loop param_grid:  11%|████▏                                 | 1/9 [00:03<00:25,  3.15s/it]\u001b[A\n",
      "loop param_grid:  22%|████████▍                             | 2/9 [00:12<00:47,  6.72s/it]\u001b[A\n",
      "loop param_grid:  33%|████████████▋                         | 3/9 [00:28<01:07, 11.17s/it]\u001b[A\n",
      "loop param_grid:  44%|████████████████▉                     | 4/9 [00:32<00:41,  8.38s/it]\u001b[A\n",
      "loop param_grid:  56%|█████████████████████                 | 5/9 [00:44<00:38,  9.58s/it]\u001b[A\n",
      "loop param_grid:  67%|█████████████████████████▎            | 6/9 [01:04<00:38, 12.92s/it]\u001b[A\n",
      "loop param_grid:  78%|█████████████████████████████▌        | 7/9 [01:08<00:20, 10.18s/it]\u001b[A\n",
      "loop param_grid:  89%|█████████████████████████████████▊    | 8/9 [01:22<00:11, 11.22s/it]\u001b[A\n",
      "loop param_grid: 100%|██████████████████████████████████████| 9/9 [01:44<00:00, 14.61s/it]\u001b[A\n",
      "loop lags_grid: 100%|███████████████████████████████████████| 3/3 [04:38<00:00, 92.88s/it]\u001b[A\n"
     ]
    },
    {
     "name": "stdout",
     "output_type": "stream",
     "text": [
      "`Forecaster` refitted using the best-found lags and parameters, and the whole data set: \n",
      "  Lags: [ 1  2  3  4  5  6  7  8  9 10 11 12 13 14 15 16 17 18 19 20] \n",
      "  Parameters: {'max_depth': 10, 'n_estimators': 100}\n",
      "  Backtesting metric: 38.7095871026073\n",
      "\n"
     ]
    }
   ],
   "source": [
    "# Cálculo de hiperparámetros por grid search\n",
    "# ==============================================================================\n",
    "steps = 36\n",
    "forecaster = ForecasterAutoreg(\n",
    "                regressor = RandomForestRegressor(random_state=123),\n",
    "                lags      = 10 # Este valor se reemplazará en la grilla\n",
    "             )\n",
    "\n",
    "# Lags used as predictors\n",
    "lags_grid = [10, 15,20]\n",
    "\n",
    "# Regressor's hyperparameters\n",
    "param_grid = {'n_estimators': [100,300, 500],\n",
    "              'max_depth': [3, 5, 10]}\n",
    "\n",
    "results_grid = grid_search_forecaster(\n",
    "                        forecaster         = forecaster,\n",
    "                        y                  = sk_train['Close'],\n",
    "                        param_grid         = param_grid,\n",
    "                        lags_grid          = lags_grid,\n",
    "                        steps              = steps,\n",
    "                        refit              = True,\n",
    "                        metric             = 'mean_squared_error',\n",
    "                        initial_train_size = int(len(sk_train)*0.5),\n",
    "                        fixed_train_size   = False,\n",
    "                        return_best        = True,\n",
    "                        verbose            = False\n",
    "               )\n",
    "\n",
    "#`Forecaster` refitted using the best-found lags and parameters, and the whole data set: \n",
    "#  Lags: [ 1  2  3  4  5  6  7  8  9 10 11 12 13 14 15 16 17 18 19 20] \n",
    "#  Parameters: {'max_depth': 10, 'n_estimators': 100}\n",
    "#  Backtesting metric: 38.7095871026073"
   ]
  },
  {
   "cell_type": "code",
   "execution_count": 89,
   "id": "469c42dc",
   "metadata": {},
   "outputs": [],
   "source": [
    "steps = len(sk_test)\n",
    "pred_sk = forecaster.predict(steps=steps)"
   ]
  },
  {
   "cell_type": "code",
   "execution_count": 90,
   "id": "96b000cc",
   "metadata": {},
   "outputs": [],
   "source": [
    "y_true = sk_test['Close']\n",
    "y_pred = pred_sk"
   ]
  },
  {
   "cell_type": "code",
   "execution_count": 91,
   "id": "d2f11256",
   "metadata": {},
   "outputs": [
    {
     "name": "stdout",
     "output_type": "stream",
     "text": [
      "EL MSE del modelo en test es de: 39.83573072605286\n",
      "EL RMSE del modelo en test es de: 6.311555333359033\n",
      "EL MAE del modelo en test es de: 5.089508666015609\n",
      "EL MAPE del modelo en test es de: 2.73%\n"
     ]
    }
   ],
   "source": [
    "error_mse = mean_squared_error(\n",
    "                    y_true= y_true,\n",
    "                    y_pred = y_pred\n",
    "                )\n",
    "\n",
    "rmse = np.sqrt (error_mse)\n",
    "\n",
    "print(f\"EL MSE del modelo en test es de: {error_mse}\")\n",
    "print(f\"EL RMSE del modelo en test es de: {rmse}\")\n",
    "\n",
    "# suponga que y_true son los valores reales y y_pred son las predicciones del modelo\n",
    "error_mae = mean_absolute_error(\n",
    "                y_true= y_true,\n",
    "                y_pred = y_pred\n",
    "            )\n",
    "print(f\"EL MAE del modelo en test es de: {error_mae}\")\n",
    "\n",
    "mape = mean_absolute_percentage_error(y_true, y_pred)\n",
    "print(\"EL MAPE del modelo en test es de: {:.2f}%\".format(mape*100))\n",
    "\n",
    "metricas_sk = [error_mse,rmse,error_mae,mape]"
   ]
  },
  {
   "cell_type": "code",
   "execution_count": 92,
   "id": "fca2e984",
   "metadata": {},
   "outputs": [
    {
     "data": {
      "text/html": [
       "<div>\n",
       "<style scoped>\n",
       "    .dataframe tbody tr th:only-of-type {\n",
       "        vertical-align: middle;\n",
       "    }\n",
       "\n",
       "    .dataframe tbody tr th {\n",
       "        vertical-align: top;\n",
       "    }\n",
       "\n",
       "    .dataframe thead th {\n",
       "        text-align: right;\n",
       "    }\n",
       "</style>\n",
       "<table border=\"1\" class=\"dataframe\">\n",
       "  <thead>\n",
       "    <tr style=\"text-align: right;\">\n",
       "      <th></th>\n",
       "      <th>lags</th>\n",
       "      <th>params</th>\n",
       "      <th>mean_squared_error</th>\n",
       "      <th>max_depth</th>\n",
       "      <th>n_estimators</th>\n",
       "    </tr>\n",
       "  </thead>\n",
       "  <tbody>\n",
       "    <tr>\n",
       "      <th>22</th>\n",
       "      <td>[1, 2, 3, 4, 5, 6, 7, 8, 9, 10, 11, 12, 13, 14...</td>\n",
       "      <td>{'max_depth': 10, 'n_estimators': 100}</td>\n",
       "      <td>38.709587</td>\n",
       "      <td>10</td>\n",
       "      <td>100</td>\n",
       "    </tr>\n",
       "    <tr>\n",
       "      <th>20</th>\n",
       "      <td>[1, 2, 3, 4, 5, 6, 7, 8, 9, 10, 11, 12, 13, 14...</td>\n",
       "      <td>{'max_depth': 5, 'n_estimators': 100}</td>\n",
       "      <td>38.887570</td>\n",
       "      <td>5</td>\n",
       "      <td>100</td>\n",
       "    </tr>\n",
       "    <tr>\n",
       "      <th>21</th>\n",
       "      <td>[1, 2, 3, 4, 5, 6, 7, 8, 9, 10, 11, 12, 13, 14...</td>\n",
       "      <td>{'max_depth': 5, 'n_estimators': 500}</td>\n",
       "      <td>39.223455</td>\n",
       "      <td>5</td>\n",
       "      <td>500</td>\n",
       "    </tr>\n",
       "    <tr>\n",
       "      <th>23</th>\n",
       "      <td>[1, 2, 3, 4, 5, 6, 7, 8, 9, 10, 11, 12, 13, 14...</td>\n",
       "      <td>{'max_depth': 10, 'n_estimators': 500}</td>\n",
       "      <td>39.416511</td>\n",
       "      <td>10</td>\n",
       "      <td>500</td>\n",
       "    </tr>\n",
       "    <tr>\n",
       "      <th>16</th>\n",
       "      <td>[1, 2, 3, 4, 5, 6, 7, 8, 9, 10]</td>\n",
       "      <td>{'max_depth': 10, 'n_estimators': 100}</td>\n",
       "      <td>45.854436</td>\n",
       "      <td>10</td>\n",
       "      <td>100</td>\n",
       "    </tr>\n",
       "    <tr>\n",
       "      <th>17</th>\n",
       "      <td>[1, 2, 3, 4, 5, 6, 7, 8, 9, 10]</td>\n",
       "      <td>{'max_depth': 10, 'n_estimators': 500}</td>\n",
       "      <td>46.327037</td>\n",
       "      <td>10</td>\n",
       "      <td>500</td>\n",
       "    </tr>\n",
       "    <tr>\n",
       "      <th>9</th>\n",
       "      <td>[1, 2, 3, 4, 5, 6, 7, 8]</td>\n",
       "      <td>{'max_depth': 5, 'n_estimators': 500}</td>\n",
       "      <td>46.730369</td>\n",
       "      <td>5</td>\n",
       "      <td>500</td>\n",
       "    </tr>\n",
       "    <tr>\n",
       "      <th>11</th>\n",
       "      <td>[1, 2, 3, 4, 5, 6, 7, 8]</td>\n",
       "      <td>{'max_depth': 10, 'n_estimators': 500}</td>\n",
       "      <td>46.789559</td>\n",
       "      <td>10</td>\n",
       "      <td>500</td>\n",
       "    </tr>\n",
       "    <tr>\n",
       "      <th>14</th>\n",
       "      <td>[1, 2, 3, 4, 5, 6, 7, 8, 9, 10]</td>\n",
       "      <td>{'max_depth': 5, 'n_estimators': 100}</td>\n",
       "      <td>46.952928</td>\n",
       "      <td>5</td>\n",
       "      <td>100</td>\n",
       "    </tr>\n",
       "    <tr>\n",
       "      <th>8</th>\n",
       "      <td>[1, 2, 3, 4, 5, 6, 7, 8]</td>\n",
       "      <td>{'max_depth': 5, 'n_estimators': 100}</td>\n",
       "      <td>47.282550</td>\n",
       "      <td>5</td>\n",
       "      <td>100</td>\n",
       "    </tr>\n",
       "    <tr>\n",
       "      <th>15</th>\n",
       "      <td>[1, 2, 3, 4, 5, 6, 7, 8, 9, 10]</td>\n",
       "      <td>{'max_depth': 5, 'n_estimators': 500}</td>\n",
       "      <td>47.306852</td>\n",
       "      <td>5</td>\n",
       "      <td>500</td>\n",
       "    </tr>\n",
       "    <tr>\n",
       "      <th>10</th>\n",
       "      <td>[1, 2, 3, 4, 5, 6, 7, 8]</td>\n",
       "      <td>{'max_depth': 10, 'n_estimators': 100}</td>\n",
       "      <td>47.553558</td>\n",
       "      <td>10</td>\n",
       "      <td>100</td>\n",
       "    </tr>\n",
       "    <tr>\n",
       "      <th>3</th>\n",
       "      <td>[1, 2, 3, 4, 5]</td>\n",
       "      <td>{'max_depth': 5, 'n_estimators': 500}</td>\n",
       "      <td>48.375686</td>\n",
       "      <td>5</td>\n",
       "      <td>500</td>\n",
       "    </tr>\n",
       "    <tr>\n",
       "      <th>2</th>\n",
       "      <td>[1, 2, 3, 4, 5]</td>\n",
       "      <td>{'max_depth': 5, 'n_estimators': 100}</td>\n",
       "      <td>48.540274</td>\n",
       "      <td>5</td>\n",
       "      <td>100</td>\n",
       "    </tr>\n",
       "    <tr>\n",
       "      <th>5</th>\n",
       "      <td>[1, 2, 3, 4, 5]</td>\n",
       "      <td>{'max_depth': 10, 'n_estimators': 500}</td>\n",
       "      <td>49.394407</td>\n",
       "      <td>10</td>\n",
       "      <td>500</td>\n",
       "    </tr>\n",
       "    <tr>\n",
       "      <th>4</th>\n",
       "      <td>[1, 2, 3, 4, 5]</td>\n",
       "      <td>{'max_depth': 10, 'n_estimators': 100}</td>\n",
       "      <td>49.527591</td>\n",
       "      <td>10</td>\n",
       "      <td>100</td>\n",
       "    </tr>\n",
       "    <tr>\n",
       "      <th>18</th>\n",
       "      <td>[1, 2, 3, 4, 5, 6, 7, 8, 9, 10, 11, 12, 13, 14...</td>\n",
       "      <td>{'max_depth': 3, 'n_estimators': 100}</td>\n",
       "      <td>54.572235</td>\n",
       "      <td>3</td>\n",
       "      <td>100</td>\n",
       "    </tr>\n",
       "    <tr>\n",
       "      <th>19</th>\n",
       "      <td>[1, 2, 3, 4, 5, 6, 7, 8, 9, 10, 11, 12, 13, 14...</td>\n",
       "      <td>{'max_depth': 3, 'n_estimators': 500}</td>\n",
       "      <td>54.788032</td>\n",
       "      <td>3</td>\n",
       "      <td>500</td>\n",
       "    </tr>\n",
       "    <tr>\n",
       "      <th>0</th>\n",
       "      <td>[1, 2, 3, 4, 5]</td>\n",
       "      <td>{'max_depth': 3, 'n_estimators': 100}</td>\n",
       "      <td>55.729268</td>\n",
       "      <td>3</td>\n",
       "      <td>100</td>\n",
       "    </tr>\n",
       "    <tr>\n",
       "      <th>7</th>\n",
       "      <td>[1, 2, 3, 4, 5, 6, 7, 8]</td>\n",
       "      <td>{'max_depth': 3, 'n_estimators': 500}</td>\n",
       "      <td>55.766985</td>\n",
       "      <td>3</td>\n",
       "      <td>500</td>\n",
       "    </tr>\n",
       "    <tr>\n",
       "      <th>6</th>\n",
       "      <td>[1, 2, 3, 4, 5, 6, 7, 8]</td>\n",
       "      <td>{'max_depth': 3, 'n_estimators': 100}</td>\n",
       "      <td>55.777692</td>\n",
       "      <td>3</td>\n",
       "      <td>100</td>\n",
       "    </tr>\n",
       "    <tr>\n",
       "      <th>12</th>\n",
       "      <td>[1, 2, 3, 4, 5, 6, 7, 8, 9, 10]</td>\n",
       "      <td>{'max_depth': 3, 'n_estimators': 100}</td>\n",
       "      <td>55.844708</td>\n",
       "      <td>3</td>\n",
       "      <td>100</td>\n",
       "    </tr>\n",
       "    <tr>\n",
       "      <th>13</th>\n",
       "      <td>[1, 2, 3, 4, 5, 6, 7, 8, 9, 10]</td>\n",
       "      <td>{'max_depth': 3, 'n_estimators': 500}</td>\n",
       "      <td>56.002759</td>\n",
       "      <td>3</td>\n",
       "      <td>500</td>\n",
       "    </tr>\n",
       "    <tr>\n",
       "      <th>1</th>\n",
       "      <td>[1, 2, 3, 4, 5]</td>\n",
       "      <td>{'max_depth': 3, 'n_estimators': 500}</td>\n",
       "      <td>56.291471</td>\n",
       "      <td>3</td>\n",
       "      <td>500</td>\n",
       "    </tr>\n",
       "  </tbody>\n",
       "</table>\n",
       "</div>"
      ],
      "text/plain": [
       "                                                 lags  \\\n",
       "22  [1, 2, 3, 4, 5, 6, 7, 8, 9, 10, 11, 12, 13, 14...   \n",
       "20  [1, 2, 3, 4, 5, 6, 7, 8, 9, 10, 11, 12, 13, 14...   \n",
       "21  [1, 2, 3, 4, 5, 6, 7, 8, 9, 10, 11, 12, 13, 14...   \n",
       "23  [1, 2, 3, 4, 5, 6, 7, 8, 9, 10, 11, 12, 13, 14...   \n",
       "16                    [1, 2, 3, 4, 5, 6, 7, 8, 9, 10]   \n",
       "17                    [1, 2, 3, 4, 5, 6, 7, 8, 9, 10]   \n",
       "9                            [1, 2, 3, 4, 5, 6, 7, 8]   \n",
       "11                           [1, 2, 3, 4, 5, 6, 7, 8]   \n",
       "14                    [1, 2, 3, 4, 5, 6, 7, 8, 9, 10]   \n",
       "8                            [1, 2, 3, 4, 5, 6, 7, 8]   \n",
       "15                    [1, 2, 3, 4, 5, 6, 7, 8, 9, 10]   \n",
       "10                           [1, 2, 3, 4, 5, 6, 7, 8]   \n",
       "3                                     [1, 2, 3, 4, 5]   \n",
       "2                                     [1, 2, 3, 4, 5]   \n",
       "5                                     [1, 2, 3, 4, 5]   \n",
       "4                                     [1, 2, 3, 4, 5]   \n",
       "18  [1, 2, 3, 4, 5, 6, 7, 8, 9, 10, 11, 12, 13, 14...   \n",
       "19  [1, 2, 3, 4, 5, 6, 7, 8, 9, 10, 11, 12, 13, 14...   \n",
       "0                                     [1, 2, 3, 4, 5]   \n",
       "7                            [1, 2, 3, 4, 5, 6, 7, 8]   \n",
       "6                            [1, 2, 3, 4, 5, 6, 7, 8]   \n",
       "12                    [1, 2, 3, 4, 5, 6, 7, 8, 9, 10]   \n",
       "13                    [1, 2, 3, 4, 5, 6, 7, 8, 9, 10]   \n",
       "1                                     [1, 2, 3, 4, 5]   \n",
       "\n",
       "                                    params  mean_squared_error  max_depth  \\\n",
       "22  {'max_depth': 10, 'n_estimators': 100}           38.709587         10   \n",
       "20   {'max_depth': 5, 'n_estimators': 100}           38.887570          5   \n",
       "21   {'max_depth': 5, 'n_estimators': 500}           39.223455          5   \n",
       "23  {'max_depth': 10, 'n_estimators': 500}           39.416511         10   \n",
       "16  {'max_depth': 10, 'n_estimators': 100}           45.854436         10   \n",
       "17  {'max_depth': 10, 'n_estimators': 500}           46.327037         10   \n",
       "9    {'max_depth': 5, 'n_estimators': 500}           46.730369          5   \n",
       "11  {'max_depth': 10, 'n_estimators': 500}           46.789559         10   \n",
       "14   {'max_depth': 5, 'n_estimators': 100}           46.952928          5   \n",
       "8    {'max_depth': 5, 'n_estimators': 100}           47.282550          5   \n",
       "15   {'max_depth': 5, 'n_estimators': 500}           47.306852          5   \n",
       "10  {'max_depth': 10, 'n_estimators': 100}           47.553558         10   \n",
       "3    {'max_depth': 5, 'n_estimators': 500}           48.375686          5   \n",
       "2    {'max_depth': 5, 'n_estimators': 100}           48.540274          5   \n",
       "5   {'max_depth': 10, 'n_estimators': 500}           49.394407         10   \n",
       "4   {'max_depth': 10, 'n_estimators': 100}           49.527591         10   \n",
       "18   {'max_depth': 3, 'n_estimators': 100}           54.572235          3   \n",
       "19   {'max_depth': 3, 'n_estimators': 500}           54.788032          3   \n",
       "0    {'max_depth': 3, 'n_estimators': 100}           55.729268          3   \n",
       "7    {'max_depth': 3, 'n_estimators': 500}           55.766985          3   \n",
       "6    {'max_depth': 3, 'n_estimators': 100}           55.777692          3   \n",
       "12   {'max_depth': 3, 'n_estimators': 100}           55.844708          3   \n",
       "13   {'max_depth': 3, 'n_estimators': 500}           56.002759          3   \n",
       "1    {'max_depth': 3, 'n_estimators': 500}           56.291471          3   \n",
       "\n",
       "    n_estimators  \n",
       "22           100  \n",
       "20           100  \n",
       "21           500  \n",
       "23           500  \n",
       "16           100  \n",
       "17           500  \n",
       "9            500  \n",
       "11           500  \n",
       "14           100  \n",
       "8            100  \n",
       "15           500  \n",
       "10           100  \n",
       "3            500  \n",
       "2            100  \n",
       "5            500  \n",
       "4            100  \n",
       "18           100  \n",
       "19           500  \n",
       "0            100  \n",
       "7            500  \n",
       "6            100  \n",
       "12           100  \n",
       "13           500  \n",
       "1            500  "
      ]
     },
     "execution_count": 92,
     "metadata": {},
     "output_type": "execute_result"
    }
   ],
   "source": [
    "results_grid"
   ]
  },
  {
   "cell_type": "code",
   "execution_count": 93,
   "id": "fdfdddfd",
   "metadata": {},
   "outputs": [
    {
     "data": {
      "text/html": [
       "<div>\n",
       "<style scoped>\n",
       "    .dataframe tbody tr th:only-of-type {\n",
       "        vertical-align: middle;\n",
       "    }\n",
       "\n",
       "    .dataframe tbody tr th {\n",
       "        vertical-align: top;\n",
       "    }\n",
       "\n",
       "    .dataframe thead th {\n",
       "        text-align: right;\n",
       "    }\n",
       "</style>\n",
       "<table border=\"1\" class=\"dataframe\">\n",
       "  <thead>\n",
       "    <tr style=\"text-align: right;\">\n",
       "      <th></th>\n",
       "      <th>feature</th>\n",
       "      <th>importance</th>\n",
       "    </tr>\n",
       "  </thead>\n",
       "  <tbody>\n",
       "    <tr>\n",
       "      <th>0</th>\n",
       "      <td>lag_1</td>\n",
       "      <td>0.286230</td>\n",
       "    </tr>\n",
       "    <tr>\n",
       "      <th>1</th>\n",
       "      <td>lag_2</td>\n",
       "      <td>0.163335</td>\n",
       "    </tr>\n",
       "    <tr>\n",
       "      <th>2</th>\n",
       "      <td>lag_3</td>\n",
       "      <td>0.306064</td>\n",
       "    </tr>\n",
       "    <tr>\n",
       "      <th>3</th>\n",
       "      <td>lag_4</td>\n",
       "      <td>0.106653</td>\n",
       "    </tr>\n",
       "    <tr>\n",
       "      <th>4</th>\n",
       "      <td>lag_5</td>\n",
       "      <td>0.089155</td>\n",
       "    </tr>\n",
       "    <tr>\n",
       "      <th>5</th>\n",
       "      <td>lag_6</td>\n",
       "      <td>0.006854</td>\n",
       "    </tr>\n",
       "    <tr>\n",
       "      <th>6</th>\n",
       "      <td>lag_7</td>\n",
       "      <td>0.000791</td>\n",
       "    </tr>\n",
       "    <tr>\n",
       "      <th>7</th>\n",
       "      <td>lag_8</td>\n",
       "      <td>0.010212</td>\n",
       "    </tr>\n",
       "    <tr>\n",
       "      <th>8</th>\n",
       "      <td>lag_9</td>\n",
       "      <td>0.007253</td>\n",
       "    </tr>\n",
       "    <tr>\n",
       "      <th>9</th>\n",
       "      <td>lag_10</td>\n",
       "      <td>0.001911</td>\n",
       "    </tr>\n",
       "    <tr>\n",
       "      <th>10</th>\n",
       "      <td>lag_11</td>\n",
       "      <td>0.000593</td>\n",
       "    </tr>\n",
       "    <tr>\n",
       "      <th>11</th>\n",
       "      <td>lag_12</td>\n",
       "      <td>0.000412</td>\n",
       "    </tr>\n",
       "    <tr>\n",
       "      <th>12</th>\n",
       "      <td>lag_13</td>\n",
       "      <td>0.000383</td>\n",
       "    </tr>\n",
       "    <tr>\n",
       "      <th>13</th>\n",
       "      <td>lag_14</td>\n",
       "      <td>0.000974</td>\n",
       "    </tr>\n",
       "    <tr>\n",
       "      <th>14</th>\n",
       "      <td>lag_15</td>\n",
       "      <td>0.000197</td>\n",
       "    </tr>\n",
       "    <tr>\n",
       "      <th>15</th>\n",
       "      <td>lag_16</td>\n",
       "      <td>0.000198</td>\n",
       "    </tr>\n",
       "    <tr>\n",
       "      <th>16</th>\n",
       "      <td>lag_17</td>\n",
       "      <td>0.000711</td>\n",
       "    </tr>\n",
       "    <tr>\n",
       "      <th>17</th>\n",
       "      <td>lag_18</td>\n",
       "      <td>0.000581</td>\n",
       "    </tr>\n",
       "    <tr>\n",
       "      <th>18</th>\n",
       "      <td>lag_19</td>\n",
       "      <td>0.000982</td>\n",
       "    </tr>\n",
       "    <tr>\n",
       "      <th>19</th>\n",
       "      <td>lag_20</td>\n",
       "      <td>0.016510</td>\n",
       "    </tr>\n",
       "  </tbody>\n",
       "</table>\n",
       "</div>"
      ],
      "text/plain": [
       "   feature  importance\n",
       "0    lag_1    0.286230\n",
       "1    lag_2    0.163335\n",
       "2    lag_3    0.306064\n",
       "3    lag_4    0.106653\n",
       "4    lag_5    0.089155\n",
       "5    lag_6    0.006854\n",
       "6    lag_7    0.000791\n",
       "7    lag_8    0.010212\n",
       "8    lag_9    0.007253\n",
       "9   lag_10    0.001911\n",
       "10  lag_11    0.000593\n",
       "11  lag_12    0.000412\n",
       "12  lag_13    0.000383\n",
       "13  lag_14    0.000974\n",
       "14  lag_15    0.000197\n",
       "15  lag_16    0.000198\n",
       "16  lag_17    0.000711\n",
       "17  lag_18    0.000581\n",
       "18  lag_19    0.000982\n",
       "19  lag_20    0.016510"
      ]
     },
     "execution_count": 93,
     "metadata": {},
     "output_type": "execute_result"
    }
   ],
   "source": [
    "forecaster.get_feature_importance()"
   ]
  },
  {
   "cell_type": "code",
   "execution_count": 94,
   "id": "a6b3eb9b",
   "metadata": {},
   "outputs": [],
   "source": [
    "# Configuramos la función de pronóstico de forecaster con la mejor combinación obteida de hiperparámetros.\n",
    "# ==============================================================================\n",
    "### Aquí debe ir tu codigo, \n",
    "regressor = RandomForestRegressor(max_depth=10 , n_estimators=100 , random_state=123)\n",
    "### Hasta aquí modificas\n",
    "\n",
    "forecaster = ForecasterAutoreg(\n",
    "                regressor = regressor,\n",
    "                lags      = 20\n",
    "             )\n",
    "\n",
    "forecaster.fit(y=df_sk['Close'])"
   ]
  },
  {
   "cell_type": "code",
   "execution_count": 95,
   "id": "d8ca75a6",
   "metadata": {},
   "outputs": [],
   "source": [
    "# Pronóstico, en este caso elegimos una ventana de 20 días.\n",
    "# ==============================================================================\n",
    "steps = 10\n",
    "pred_skf = forecaster.predict(steps=steps)"
   ]
  },
  {
   "cell_type": "code",
   "execution_count": 103,
   "id": "f7b72f76",
   "metadata": {},
   "outputs": [
    {
     "data": {
      "text/html": [
       "<div>\n",
       "<style scoped>\n",
       "    .dataframe tbody tr th:only-of-type {\n",
       "        vertical-align: middle;\n",
       "    }\n",
       "\n",
       "    .dataframe tbody tr th {\n",
       "        vertical-align: top;\n",
       "    }\n",
       "\n",
       "    .dataframe thead th {\n",
       "        text-align: right;\n",
       "    }\n",
       "</style>\n",
       "<table border=\"1\" class=\"dataframe\">\n",
       "  <thead>\n",
       "    <tr style=\"text-align: right;\">\n",
       "      <th></th>\n",
       "      <th>Close</th>\n",
       "    </tr>\n",
       "    <tr>\n",
       "      <th>Date</th>\n",
       "      <th></th>\n",
       "    </tr>\n",
       "  </thead>\n",
       "  <tbody>\n",
       "    <tr>\n",
       "      <th>2016-05-02</th>\n",
       "      <td>118.570000</td>\n",
       "    </tr>\n",
       "    <tr>\n",
       "      <th>2016-05-03</th>\n",
       "      <td>117.430000</td>\n",
       "    </tr>\n",
       "    <tr>\n",
       "      <th>2016-05-04</th>\n",
       "      <td>118.059998</td>\n",
       "    </tr>\n",
       "    <tr>\n",
       "      <th>2016-05-05</th>\n",
       "      <td>117.809998</td>\n",
       "    </tr>\n",
       "    <tr>\n",
       "      <th>2016-05-06</th>\n",
       "      <td>119.489998</td>\n",
       "    </tr>\n",
       "    <tr>\n",
       "      <th>...</th>\n",
       "      <td>...</td>\n",
       "    </tr>\n",
       "    <tr>\n",
       "      <th>2018-01-22</th>\n",
       "      <td>185.369995</td>\n",
       "    </tr>\n",
       "    <tr>\n",
       "      <th>2018-01-23</th>\n",
       "      <td>189.350006</td>\n",
       "    </tr>\n",
       "    <tr>\n",
       "      <th>2018-01-24</th>\n",
       "      <td>186.550003</td>\n",
       "    </tr>\n",
       "    <tr>\n",
       "      <th>2018-01-25</th>\n",
       "      <td>187.479996</td>\n",
       "    </tr>\n",
       "    <tr>\n",
       "      <th>2018-01-26</th>\n",
       "      <td>190.000000</td>\n",
       "    </tr>\n",
       "  </tbody>\n",
       "</table>\n",
       "<p>439 rows × 1 columns</p>\n",
       "</div>"
      ],
      "text/plain": [
       "                 Close\n",
       "Date                  \n",
       "2016-05-02  118.570000\n",
       "2016-05-03  117.430000\n",
       "2016-05-04  118.059998\n",
       "2016-05-05  117.809998\n",
       "2016-05-06  119.489998\n",
       "...                ...\n",
       "2018-01-22  185.369995\n",
       "2018-01-23  189.350006\n",
       "2018-01-24  186.550003\n",
       "2018-01-25  187.479996\n",
       "2018-01-26  190.000000\n",
       "\n",
       "[439 rows x 1 columns]"
      ]
     },
     "execution_count": 103,
     "metadata": {},
     "output_type": "execute_result"
    }
   ],
   "source": [
    "df_sk = df_sk.set_index('Date')\n",
    "df_sk"
   ]
  },
  {
   "cell_type": "code",
   "execution_count": 99,
   "id": "a2732973",
   "metadata": {},
   "outputs": [
    {
     "data": {
      "image/png": "[encoded data removed]",
      "text/plain": [
       "<Figure size 720x216 with 1 Axes>"
      ]
     },
     "metadata": {
      "needs_background": "light"
     },
     "output_type": "display_data"
    }
   ],
   "source": [
    "# Calculamos las métricas\n",
    "# ==============================================================================\n",
    "import matplotlib.pyplot as plt\n",
    "\n",
    "fig, ax = plt.subplots(figsize=(10, 3))\n",
    "df_sk['Close'].plot(ax=ax, label='test')\n",
    "pred_skf.plot(ax=ax, label='predicciones')\n",
    "ax.legend();"
   ]
  }
 ],
 "metadata": {
  "kernelspec": {
   "display_name": "tf",
   "language": "python",
   "name": "tf"
  },
  "language_info": {
   "codemirror_mode": {
    "name": "ipython",
    "version": 3
   },
   "file_extension": ".py",
   "mimetype": "text/x-python",
   "name": "python",
   "nbconvert_exporter": "python",
   "pygments_lexer": "ipython3",
   "version": "3.9.13"
  }
 },
 "nbformat": 4,
 "nbformat_minor": 5
}
